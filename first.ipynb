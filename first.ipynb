{
 "cells": [
  {
   "cell_type": "code",
   "id": "initial_id",
   "metadata": {
    "collapsed": true,
    "ExecuteTime": {
     "end_time": "2024-11-07T04:30:16.040554Z",
     "start_time": "2024-11-07T04:30:15.098711Z"
    }
   },
   "source": [
    "from jupyterlab.semver import valid\n",
    "\n",
    "print(\"lol\")"
   ],
   "outputs": [
    {
     "name": "stdout",
     "output_type": "stream",
     "text": [
      "lol\n"
     ]
    }
   ],
   "execution_count": 66
  },
  {
   "metadata": {
    "ExecuteTime": {
     "end_time": "2024-11-07T04:30:16.094013Z",
     "start_time": "2024-11-07T04:30:16.062824Z"
    }
   },
   "cell_type": "code",
   "source": [
    "tup=[1,2,3,4,5]\n",
    "print(tup[2])"
   ],
   "id": "d16f3e9d1275a2cc",
   "outputs": [
    {
     "name": "stdout",
     "output_type": "stream",
     "text": [
      "3\n"
     ]
    }
   ],
   "execution_count": 67
  },
  {
   "metadata": {},
   "cell_type": "markdown",
   "source": "## this part is for dictionary",
   "id": "f580c583ef8f6216"
  },
  {
   "metadata": {
    "ExecuteTime": {
     "end_time": "2024-11-07T04:30:16.117727Z",
     "start_time": "2024-11-07T04:30:16.109615Z"
    }
   },
   "cell_type": "code",
   "source": "",
   "id": "4316313d2e4de4ca",
   "outputs": [],
   "execution_count": null
  },
  {
   "metadata": {
    "ExecuteTime": {
     "end_time": "2024-11-07T04:30:16.164979Z",
     "start_time": "2024-11-07T04:30:16.149016Z"
    }
   },
   "cell_type": "code",
   "source": [
    "my_dict= {\n",
    "    \"name\" : \"sakib\",\n",
    "    \"city\" : \"kishoregonj\",\n",
    "      \"salary\": 444\n",
    "}"
   ],
   "id": "716f1b66be5a7817",
   "outputs": [],
   "execution_count": 68
  },
  {
   "metadata": {
    "ExecuteTime": {
     "end_time": "2024-11-07T04:30:16.233432Z",
     "start_time": "2024-11-07T04:30:16.209002Z"
    }
   },
   "cell_type": "code",
   "source": "my_dict.keys()",
   "id": "e2cffbf7936b5952",
   "outputs": [
    {
     "data": {
      "text/plain": [
       "dict_keys(['name', 'city', 'salary'])"
      ]
     },
     "execution_count": 69,
     "metadata": {},
     "output_type": "execute_result"
    }
   ],
   "execution_count": 69
  },
  {
   "metadata": {
    "ExecuteTime": {
     "end_time": "2024-11-07T04:30:16.280330Z",
     "start_time": "2024-11-07T04:30:16.264705Z"
    }
   },
   "cell_type": "code",
   "source": "",
   "id": "200606ccda2100bb",
   "outputs": [],
   "execution_count": null
  },
  {
   "metadata": {
    "ExecuteTime": {
     "end_time": "2024-11-07T04:30:16.321002Z",
     "start_time": "2024-11-07T04:30:16.309735Z"
    }
   },
   "cell_type": "code",
   "source": "my_dict.values()",
   "id": "387b0213c73d4ee5",
   "outputs": [
    {
     "data": {
      "text/plain": [
       "dict_values(['sakib', 'kishoregonj', 444])"
      ]
     },
     "execution_count": 70,
     "metadata": {},
     "output_type": "execute_result"
    }
   ],
   "execution_count": 70
  },
  {
   "metadata": {
    "ExecuteTime": {
     "end_time": "2024-11-07T04:30:16.383805Z",
     "start_time": "2024-11-07T04:30:16.352557Z"
    }
   },
   "cell_type": "code",
   "source": "my_dict.items()",
   "id": "82b3f0ce3246a49f",
   "outputs": [
    {
     "data": {
      "text/plain": [
       "dict_items([('name', 'sakib'), ('city', 'kishoregonj'), ('salary', 444)])"
      ]
     },
     "execution_count": 71,
     "metadata": {},
     "output_type": "execute_result"
    }
   ],
   "execution_count": 71
  },
  {
   "metadata": {
    "ExecuteTime": {
     "end_time": "2024-11-07T04:30:16.415053Z",
     "start_time": "2024-11-07T04:30:16.399428Z"
    }
   },
   "cell_type": "code",
   "source": "my_dict['salary']=888",
   "id": "2633c87039f432b2",
   "outputs": [],
   "execution_count": 72
  },
  {
   "metadata": {
    "ExecuteTime": {
     "end_time": "2024-11-07T04:30:16.462391Z",
     "start_time": "2024-11-07T04:30:16.446747Z"
    }
   },
   "cell_type": "code",
   "source": "my_dict['yoe']=3\n",
   "id": "7d7d7638593e1229",
   "outputs": [],
   "execution_count": 73
  },
  {
   "metadata": {
    "ExecuteTime": {
     "end_time": "2024-11-07T04:30:16.498853Z",
     "start_time": "2024-11-07T04:30:16.482741Z"
    }
   },
   "cell_type": "code",
   "source": [
    "my_dict.items()\n",
    "print(my_dict)"
   ],
   "id": "6507b6e6c11bba9b",
   "outputs": [
    {
     "name": "stdout",
     "output_type": "stream",
     "text": [
      "{'name': 'sakib', 'city': 'kishoregonj', 'salary': 888, 'yoe': 3}\n"
     ]
    }
   ],
   "execution_count": 74
  },
  {
   "metadata": {
    "ExecuteTime": {
     "end_time": "2024-11-07T04:30:16.568582Z",
     "start_time": "2024-11-07T04:30:16.537312Z"
    }
   },
   "cell_type": "code",
   "source": "isvalid=True",
   "id": "94ec503e93c4cbcf",
   "outputs": [],
   "execution_count": 75
  },
  {
   "metadata": {
    "ExecuteTime": {
     "end_time": "2024-11-07T04:30:16.599812Z",
     "start_time": "2024-11-07T04:30:16.584183Z"
    }
   },
   "cell_type": "code",
   "source": "not isvalid",
   "id": "7289eacac2c5908e",
   "outputs": [
    {
     "data": {
      "text/plain": [
       "False"
      ]
     },
     "execution_count": 76,
     "metadata": {},
     "output_type": "execute_result"
    }
   ],
   "execution_count": 76
  },
  {
   "metadata": {},
   "cell_type": "markdown",
   "source": "## tupple () ,dictionary {} ,List[]\n",
   "id": "38fac51b2c7ddf52"
  },
  {
   "metadata": {
    "ExecuteTime": {
     "end_time": "2024-11-07T04:30:16.662508Z",
     "start_time": "2024-11-07T04:30:16.646886Z"
    }
   },
   "cell_type": "code",
   "source": [
    "my_list= ['a','b','c',12,13]\n",
    "print(my_list)"
   ],
   "id": "c3f244f9a10d54a9",
   "outputs": [
    {
     "name": "stdout",
     "output_type": "stream",
     "text": [
      "['a', 'b', 'c', 12, 13]\n"
     ]
    }
   ],
   "execution_count": 77
  },
  {
   "metadata": {},
   "cell_type": "markdown",
   "source": "### list is not continuous ,list based on linked list",
   "id": "e365e6aca09ed372"
  },
  {
   "metadata": {},
   "cell_type": "markdown",
   "source": "",
   "id": "57ffddbb2d656398"
  },
  {
   "metadata": {
    "ExecuteTime": {
     "end_time": "2024-11-07T04:30:16.694248Z",
     "start_time": "2024-11-07T04:30:16.664549Z"
    }
   },
   "cell_type": "code",
   "source": "lisin=[1,2,3,4,5]\n",
   "id": "c37758207d826891",
   "outputs": [],
   "execution_count": 78
  },
  {
   "metadata": {
    "ExecuteTime": {
     "end_time": "2024-11-07T04:30:16.725832Z",
     "start_time": "2024-11-07T04:30:16.709872Z"
    }
   },
   "cell_type": "code",
   "source": "lisin[2:4]",
   "id": "23ae0fe88f2689de",
   "outputs": [
    {
     "data": {
      "text/plain": [
       "[3, 4]"
      ]
     },
     "execution_count": 79,
     "metadata": {},
     "output_type": "execute_result"
    }
   ],
   "execution_count": 79
  },
  {
   "metadata": {
    "ExecuteTime": {
     "end_time": "2024-11-07T04:30:16.858290Z",
     "start_time": "2024-11-07T04:30:16.836125Z"
    }
   },
   "cell_type": "code",
   "source": "lisin[-3:]",
   "id": "630ebac86954c0d0",
   "outputs": [
    {
     "data": {
      "text/plain": [
       "[3, 4, 5]"
      ]
     },
     "execution_count": 80,
     "metadata": {},
     "output_type": "execute_result"
    }
   ],
   "execution_count": 80
  },
  {
   "metadata": {
    "ExecuteTime": {
     "end_time": "2024-11-07T04:30:17.016658Z",
     "start_time": "2024-11-07T04:30:17.000744Z"
    }
   },
   "cell_type": "code",
   "source": [
    "list2d = [\n",
    "    [1,2,3],\n",
    "    [4,5,6],\n",
    "    [7,8,9]\n",
    "]"
   ],
   "id": "797ee038d928602",
   "outputs": [],
   "execution_count": 81
  },
  {
   "metadata": {
    "ExecuteTime": {
     "end_time": "2024-11-07T04:30:17.048417Z",
     "start_time": "2024-11-07T04:30:17.020022Z"
    }
   },
   "cell_type": "code",
   "source": "print(list2d)",
   "id": "2706039585e81d0e",
   "outputs": [
    {
     "name": "stdout",
     "output_type": "stream",
     "text": [
      "[[1, 2, 3], [4, 5, 6], [7, 8, 9]]\n"
     ]
    }
   ],
   "execution_count": 82
  },
  {
   "metadata": {
    "ExecuteTime": {
     "end_time": "2024-11-07T04:37:42.801766Z",
     "start_time": "2024-11-07T04:37:42.786657Z"
    }
   },
   "cell_type": "code",
   "source": "list2d",
   "id": "4f1e6fb559690b4",
   "outputs": [
    {
     "data": {
      "text/plain": [
       "[[1, 2, 3], [4, 5, 6], [7, 8, 9]]"
      ]
     },
     "execution_count": 83,
     "metadata": {},
     "output_type": "execute_result"
    }
   ],
   "execution_count": 83
  },
  {
   "metadata": {
    "ExecuteTime": {
     "end_time": "2024-11-07T04:47:56.340587Z",
     "start_time": "2024-11-07T04:47:56.304964Z"
    }
   },
   "cell_type": "code",
   "source": "list2d[0][1]",
   "id": "468bb66855437880",
   "outputs": [
    {
     "data": {
      "text/plain": [
       "2"
      ]
     },
     "execution_count": 89,
     "metadata": {},
     "output_type": "execute_result"
    }
   ],
   "execution_count": 89
  },
  {
   "metadata": {
    "ExecuteTime": {
     "end_time": "2024-11-07T04:48:44.851814Z",
     "start_time": "2024-11-07T04:48:44.820889Z"
    }
   },
   "cell_type": "code",
   "source": "list2d[1][0:2]",
   "id": "dc2b4b4b0bd3eb74",
   "outputs": [
    {
     "data": {
      "text/plain": [
       "[4, 5]"
      ]
     },
     "execution_count": 90,
     "metadata": {},
     "output_type": "execute_result"
    }
   ],
   "execution_count": 90
  },
  {
   "metadata": {
    "ExecuteTime": {
     "end_time": "2024-11-07T04:50:34.673458Z",
     "start_time": "2024-11-07T04:50:34.657821Z"
    }
   },
   "cell_type": "code",
   "source": "list2d[1:2][0:2]",
   "id": "78c5b04bab308310",
   "outputs": [
    {
     "data": {
      "text/plain": [
       "[[4, 5, 6]]"
      ]
     },
     "execution_count": 93,
     "metadata": {},
     "output_type": "execute_result"
    }
   ],
   "execution_count": 93
  }
 ],
 "metadata": {
  "kernelspec": {
   "display_name": "Python 3",
   "language": "python",
   "name": "python3"
  },
  "language_info": {
   "codemirror_mode": {
    "name": "ipython",
    "version": 2
   },
   "file_extension": ".py",
   "mimetype": "text/x-python",
   "name": "python",
   "nbconvert_exporter": "python",
   "pygments_lexer": "ipython2",
   "version": "2.7.6"
  }
 },
 "nbformat": 4,
 "nbformat_minor": 5
}
