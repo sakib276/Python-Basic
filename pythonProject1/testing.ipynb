{
 "cells": [
  {
   "metadata": {},
   "cell_type": "markdown",
   "source": "## Python Basics",
   "id": "bf7c560c19bbf75b"
  },
  {
   "metadata": {},
   "cell_type": "markdown",
   "source": "#### Basic  Printing ",
   "id": "279a6795f8295ed3"
  },
  {
   "metadata": {
    "ExecuteTime": {
     "end_time": "2024-11-05T01:20:42.515776Z",
     "start_time": "2024-11-05T01:20:42.506795Z"
    }
   },
   "cell_type": "code",
   "source": [
    "print(\" I am Nazmus Sakib\")\n",
    "print(\" I am from Jahangirnagar University\")"
   ],
   "id": "4d7f1d1335ef4f68",
   "outputs": [
    {
     "name": "stdout",
     "output_type": "stream",
     "text": [
      " I am Nazmus Sakib\n",
      " I am from Jahangirnagar University\n"
     ]
    }
   ],
   "execution_count": 19
  },
  {
   "metadata": {},
   "cell_type": "markdown",
   "source": "#### Integar and string declear and Data type Checking",
   "id": "afda194ea3eef380"
  },
  {
   "metadata": {
    "ExecuteTime": {
     "end_time": "2024-11-05T01:20:42.530735Z",
     "start_time": "2024-11-05T01:20:42.523751Z"
    }
   },
   "cell_type": "code",
   "source": [
    "a =100\n",
    "print(a)\n",
    "b=\"nazmus sakib\"\n",
    "print(b)\n",
    "\n",
    "print(type(a))\n",
    "print(type(b))"
   ],
   "id": "70c322717e788ad9",
   "outputs": [
    {
     "name": "stdout",
     "output_type": "stream",
     "text": [
      "100\n",
      "nazmus sakib\n",
      "<class 'int'>\n",
      "<class 'str'>\n"
     ]
    }
   ],
   "execution_count": 20
  },
  {
   "metadata": {},
   "cell_type": "markdown",
   "source": "#### numpy testing\n",
   "id": "16aca8cf0d364b73"
  },
  {
   "metadata": {
    "ExecuteTime": {
     "end_time": "2024-11-05T01:20:42.655083Z",
     "start_time": "2024-11-05T01:20:42.641049Z"
    }
   },
   "cell_type": "code",
   "source": [
    "import numpy\n",
    "print(numpy.__version__)"
   ],
   "id": "e6139118dd571028",
   "outputs": [
    {
     "name": "stdout",
     "output_type": "stream",
     "text": [
      "2.1.3\n"
     ]
    }
   ],
   "execution_count": 21
  },
  {
   "metadata": {
    "ExecuteTime": {
     "end_time": "2024-11-05T01:20:42.671023Z",
     "start_time": "2024-11-05T01:20:42.662292Z"
    }
   },
   "cell_type": "code",
   "source": [
    "import numpy \n",
    "numpy.random.seed(42)\n",
    "print(numpy.random.seed(42))"
   ],
   "id": "db83d3bcb693cf2f",
   "outputs": [
    {
     "name": "stdout",
     "output_type": "stream",
     "text": [
      "None\n"
     ]
    }
   ],
   "execution_count": 22
  },
  {
   "metadata": {
    "ExecuteTime": {
     "end_time": "2024-11-05T01:20:42.717938Z",
     "start_time": "2024-11-05T01:20:42.703476Z"
    }
   },
   "cell_type": "code",
   "source": [
    "import numpy as np\n",
    "np.random.rand(13)"
   ],
   "id": "1d888c55349f1d9f",
   "outputs": [
    {
     "data": {
      "text/plain": [
       "array([0.37454012, 0.95071431, 0.73199394, 0.59865848, 0.15601864,\n",
       "       0.15599452, 0.05808361, 0.86617615, 0.60111501, 0.70807258,\n",
       "       0.02058449, 0.96990985, 0.83244264])"
      ]
     },
     "execution_count": 23,
     "metadata": {},
     "output_type": "execute_result"
    }
   ],
   "execution_count": 23
  },
  {
   "metadata": {},
   "cell_type": "markdown",
   "source": "#### Version Checking",
   "id": "73b369aa0bbdc247"
  },
  {
   "metadata": {
    "ExecuteTime": {
     "end_time": "2024-11-05T01:20:42.733161Z",
     "start_time": "2024-11-05T01:20:42.724819Z"
    }
   },
   "cell_type": "code",
   "source": [
    "from platform import python_version, version\n",
    "\n",
    "print(\"current branch \",python_version())"
   ],
   "id": "127fca9e5690eee6",
   "outputs": [
    {
     "name": "stdout",
     "output_type": "stream",
     "text": [
      "current branch  3.10.11\n"
     ]
    }
   ],
   "execution_count": 24
  },
  {
   "metadata": {
    "ExecuteTime": {
     "end_time": "2024-11-05T01:20:42.765140Z",
     "start_time": "2024-11-05T01:20:42.750337Z"
    }
   },
   "cell_type": "code",
   "source": [
    "import platform\n",
    "print(platform.python_version())"
   ],
   "id": "ca08b43a64e380e4",
   "outputs": [
    {
     "name": "stdout",
     "output_type": "stream",
     "text": [
      "3.10.11\n"
     ]
    }
   ],
   "execution_count": 25
  },
  {
   "metadata": {},
   "cell_type": "markdown",
   "source": "#### Extra\n",
   "id": "6a5fe70da42e3aac"
  },
  {
   "metadata": {
    "ExecuteTime": {
     "end_time": "2024-11-05T01:20:42.843296Z",
     "start_time": "2024-11-05T01:20:42.828331Z"
    }
   },
   "cell_type": "code",
   "source": [
    "print(\"Nazmus \" ,end=\"\")\n",
    "print(\"Sakib\")"
   ],
   "id": "4949d57446674125",
   "outputs": [
    {
     "name": "stdout",
     "output_type": "stream",
     "text": [
      "Nazmus Sakib\n"
     ]
    }
   ],
   "execution_count": 26
  }
 ],
 "metadata": {
  "kernelspec": {
   "display_name": "Python 3",
   "language": "python",
   "name": "python3"
  },
  "language_info": {
   "codemirror_mode": {
    "name": "ipython",
    "version": 2
   },
   "file_extension": ".py",
   "mimetype": "text/x-python",
   "name": "python",
   "nbconvert_exporter": "python",
   "pygments_lexer": "ipython2",
   "version": "2.7.6"
  }
 },
 "nbformat": 4,
 "nbformat_minor": 5
}
