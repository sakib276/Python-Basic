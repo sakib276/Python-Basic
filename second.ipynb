{
 "cells": [
  {
   "metadata": {},
   "cell_type": "markdown",
   "source": "### very basic commands\n",
   "id": "c2f50e2c86813e"
  },
  {
   "metadata": {
    "ExecuteTime": {
     "end_time": "2024-11-08T14:17:43.386476Z",
     "start_time": "2024-11-08T14:17:43.355100Z"
    }
   },
   "cell_type": "code",
   "source": [
    "a=\"sakib\"\n",
    "b=362\n",
    "c=\"nazmus\"\n",
    "d=print\n",
    "\n",
    "print (a+c, end=\" 9 \")\n",
    "print(a+str(b))"
   ],
   "id": "743347f75d8a1491",
   "outputs": [
    {
     "name": "stdout",
     "output_type": "stream",
     "text": [
      "sakibnazmus 9 sakib362\n"
     ]
    }
   ],
   "execution_count": 12
  },
  {
   "metadata": {
    "ExecuteTime": {
     "end_time": "2024-11-08T14:17:43.511382Z",
     "start_time": "2024-11-08T14:17:43.498501Z"
    }
   },
   "cell_type": "code",
   "source": [
    "import sys\n",
    "print(sys.version)\n"
   ],
   "id": "7ef2a100949a4ef3",
   "outputs": [
    {
     "name": "stdout",
     "output_type": "stream",
     "text": [
      "3.10.11 (tags/v3.10.11:7d4cc5a, Apr  5 2023, 00:38:17) [MSC v.1929 64 bit (AMD64)]\n"
     ]
    }
   ],
   "execution_count": 13
  },
  {
   "metadata": {},
   "cell_type": "markdown",
   "source": [
    "##### A variable declared outside of any function or class is considered a global variable.\n",
    "### Modifying Global Variable\n",
    "If you want to modify the value of a global variable inside a function, you must declare it as global inside that function. Without the global keyword, Python will treat it as a local variable and will not modify the global one.\n"
   ],
   "id": "54748e581b2d0d73"
  },
  {
   "metadata": {},
   "cell_type": "code",
   "outputs": [],
   "execution_count": null,
   "source": [
    "# Global variable\n",
    "x = 10\n",
    "\n",
    "def modify_global():\n",
    "    global x  # Declare that we want to use the global variable 'x'\n",
    "    x = 20  # Modify the global variable\n",
    "\n",
    "modify_global()\n",
    "print(x)  # Output will be 20, since we modified the global variable inside the function\n"
   ],
   "id": "58c1f3431595cc03"
  },
  {
   "metadata": {},
   "cell_type": "markdown",
   "source": "### DELETEING A VARIABLE ",
   "id": "60d3a57f05b2bdde"
  },
  {
   "metadata": {
    "ExecuteTime": {
     "end_time": "2024-11-08T17:57:35.461360Z",
     "start_time": "2024-11-08T17:57:35.445220Z"
    }
   },
   "cell_type": "code",
   "source": [
    "f=11;\n",
    "print(f)\n",
    "# del f\n",
    "print(f)"
   ],
   "id": "e59e35f113ec20d5",
   "outputs": [
    {
     "name": "stdout",
     "output_type": "stream",
     "text": [
      "11\n",
      "11\n"
     ]
    }
   ],
   "execution_count": 15
  },
  {
   "metadata": {},
   "cell_type": "markdown",
   "source": "### version checking \n",
   "id": "bf3753f1bdc08860"
  },
  {
   "metadata": {
    "ExecuteTime": {
     "end_time": "2024-11-08T18:15:04.239344Z",
     "start_time": "2024-11-08T18:15:04.208272Z"
    }
   },
   "cell_type": "code",
   "source": [
    "import sys\n",
    "sys.version\n"
   ],
   "id": "8d895e4bf1b904e3",
   "outputs": [
    {
     "data": {
      "text/plain": [
       "'3.10.11 (tags/v3.10.11:7d4cc5a, Apr  5 2023, 00:38:17) [MSC v.1929 64 bit (AMD64)]'"
      ]
     },
     "execution_count": 16,
     "metadata": {},
     "output_type": "execute_result"
    }
   ],
   "execution_count": 16
  },
  {
   "metadata": {
    "ExecuteTime": {
     "end_time": "2024-11-08T18:20:03.942656Z",
     "start_time": "2024-11-08T18:20:03.926588Z"
    }
   },
   "cell_type": "code",
   "source": [
    "my_tuple = (1, 2, 3, 4, 5)\n",
    "\n",
    "print(my_tuple[1:4])  # Output: (2, 3, 4)\n"
   ],
   "id": "abe5b94dc00281d",
   "outputs": [
    {
     "name": "stdout",
     "output_type": "stream",
     "text": [
      "(2, 3, 4)\n"
     ]
    }
   ],
   "execution_count": 17
  },
  {
   "metadata": {},
   "cell_type": "markdown",
   "source": [
    "### Tuples \n",
    "A tuple in Python is an immutable sequence type, similar to a list, but unlike lists, the elements of a tuple cannot be modified after the tuple is created. Tuples are commonly used to store collections of related items that should not change, and they are often used to represent fixed collections of items, such as coordinates or settings."
   ],
   "id": "ecd164feaf4bebb6"
  },
  {
   "metadata": {},
   "cell_type": "code",
   "outputs": [],
   "execution_count": null,
   "source": [
    "# Creating a tuple\n",
    "my_tuple = (1, 2, 3, \"hello\", 4.5)\n",
    "\n",
    "print(my_tuple)  # Output: (1, 2, 3, 'hello', 4.5)\n",
    "print(my_tuple[2])\n",
    "print(my_tuple[3])\n",
    "print(my_tuple[1:4])  # Output: (2, 3, 4)\n"
   ],
   "id": "160a7faf32ac3173"
  },
  {
   "metadata": {},
   "cell_type": "code",
   "outputs": [],
   "execution_count": null,
   "source": [
    "my_tuple = (1, 2, 3, 2, 4, 2)\n",
    "\n",
    "print(my_tuple.count(2))  # Output: 3 (since 2 appears 3 times)\n",
    "print(my_tuple.index(4))  # Output: 4 (the index of the first occurrence of 4)\n"
   ],
   "id": "eb8fe2a1b099403c"
  },
  {
   "metadata": {
    "ExecuteTime": {
     "end_time": "2024-11-08T18:45:05.151810Z",
     "start_time": "2024-11-08T18:45:05.120573Z"
    }
   },
   "cell_type": "code",
   "source": [
    "tup1 = ('Robert', 'Carlos','1965','Terminator 1995', 'Actor','Florida');\n",
    "tup2 = (1,2,3,4,5,6,7);\n",
    "print  (tup1[0])\n",
    "print ( tup2[1:4])\n",
    "\n",
    "#Packing and Unpacking\n",
    "x = (\"Guru99\", 20, \"Education\")    # tuple packing\n",
    "(company, emp, profile) = x    # tuple unpacking\n",
    "print (company)\n",
    "print (emp)\n",
    "print (profile)\n",
    "\n",
    "#Comparing tuples\n",
    "#case 1\n",
    "a=(5,6)\n",
    "b=(1,4)\n",
    "if (a>b):print(\"a is bigger\")\n",
    "else: print (\"b is bigger\")\n",
    "\n",
    "#case 2\n",
    "a=(5,6)\n",
    "b=(5,4)\n",
    "if (a>b):print (\"a is bigger\")\n",
    "else: print (\"b is bigger\")\n",
    "\n",
    "#case 3\n",
    "a=(5,6)\n",
    "b=(6,4)\n",
    "if (a>b):print (\"a is bigger\")\n",
    "else: print (\"b is bigger\")\n",
    "\n",
    "#Tuples and dictionary\n",
    "a = {'x':100, 'y':200}\n",
    "b = a.items()\n",
    "print (b) \n",
    "\n",
    "#Slicing of Tuple\n",
    "x = (\"a\", \"b\",\"c\", \"d\", \"e\")\n",
    "print( x[2:4])"
   ],
   "id": "a114df7d195765a8",
   "outputs": [
    {
     "name": "stdout",
     "output_type": "stream",
     "text": [
      "Robert\n",
      "(2, 3, 4)\n",
      "Guru99\n",
      "20\n",
      "Education\n",
      "a is bigger\n",
      "a is bigger\n",
      "b is bigger\n",
      "dict_items([('x', 100), ('y', 200)])\n",
      "('c', 'd')\n"
     ]
    }
   ],
   "execution_count": 18
  },
  {
   "metadata": {},
   "cell_type": "markdown",
   "source": [
    "### Dictionary\n",
    "A Dictionary in Python is the unordered and changeable collection of data values that holds key-value pairs. Each key-value pair in the dictionary maps the key to its associated value making it more optimized. A Dictionary in python is declared by enclosing a comma-separated list of key-value pairs using curly braces({}). Python Dictionary is classified into two elements: Keys and Values"
   ],
   "id": "e6e29f56a5a21a08"
  },
  {
   "metadata": {},
   "cell_type": "code",
   "outputs": [],
   "execution_count": null,
   "source": [
    "Dict = {'Tim': 18,'Charlie':12,'Tiffany':22,'Robert':25}\n",
    "Boys = {'Tim': 18,'Charlie':12,'Robert':25}\n",
    "Girls = {'Tiffany':22}\n",
    "for key in Boys.keys():\n",
    "    if key in Dict.keys():\n",
    "        print (True)\n",
    "    else:       \n",
    "        print( False)\n",
    "\n",
    "\n",
    "print (Dict['Tiffany'])"
   ],
   "id": "6f34242ae4bee907"
  },
  {
   "metadata": {},
   "cell_type": "markdown",
   "source": "",
   "id": "f65002a067b95bdf"
  }
 ],
 "metadata": {
  "kernelspec": {
   "display_name": "Python 3",
   "language": "python",
   "name": "python3"
  },
  "language_info": {
   "codemirror_mode": {
    "name": "ipython",
    "version": 2
   },
   "file_extension": ".py",
   "mimetype": "text/x-python",
   "name": "python",
   "nbconvert_exporter": "python",
   "pygments_lexer": "ipython2",
   "version": "2.7.6"
  }
 },
 "nbformat": 4,
 "nbformat_minor": 5
}
